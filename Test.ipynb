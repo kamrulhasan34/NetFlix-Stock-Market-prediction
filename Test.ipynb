{
 "cells": [
  {
   "cell_type": "code",
   "execution_count": 43,
   "id": "1fb5798d-7d5a-4d3c-b754-57ab0282057e",
   "metadata": {},
   "outputs": [],
   "source": [
    "import pandas as pd\n",
    "import numpy as np\n",
    "from datetime import datetime, timedelta\n",
    "from sklearn.model_selection import train_test_split\n",
    "from sklearn.ensemble import RandomForestRegressor\n",
    "from sklearn.metrics import accuracy_score, precision_score, recall_score, f1_score, mean_squared_error"
   ]
  },
  {
   "cell_type": "code",
   "execution_count": 44,
   "id": "0a0d6ef1-301e-4623-b06d-11eaa4f44557",
   "metadata": {},
   "outputs": [],
   "source": [
    "# Load data\n",
    "file_path = r'C:\\Users\\kamrul\\Desktop\\Thesis\\Random Forest/Netflix Data - STOCK.xlsx'  # Path to your file\n",
    "data = pd.read_excel(file_path)\n"
   ]
  },
  {
   "cell_type": "code",
   "execution_count": 45,
   "id": "c076f7d3-b759-450d-9664-58fe7fb6b7d0",
   "metadata": {},
   "outputs": [],
   "source": [
    "# Data Cleaning\n",
    "data_cleaned = data.drop(columns=['Unnamed: 10', 'Unnamed: 11'], errors='ignore').dropna()\n"
   ]
  },
  {
   "cell_type": "code",
   "execution_count": 46,
   "id": "ec66f758-ddb7-440a-95f6-02b8185d008a",
   "metadata": {},
   "outputs": [],
   "source": [
    "# Features and target\n",
    "features = ['Open', 'High', 'Low', 'Volume']  # Use relevant columns\n",
    "target = 'Close'\n",
    "\n",
    "X = data[features]\n",
    "y = data[target]"
   ]
  },
  {
   "cell_type": "code",
   "execution_count": 47,
   "id": "17c7bc79-c322-4fa8-9540-4302eddefdf2",
   "metadata": {},
   "outputs": [],
   "source": [
    "# Split data into training and testing sets\n",
    "X_train, X_test, y_train, y_test = train_test_split(X, y, test_size=0.2, random_state=42)"
   ]
  },
  {
   "cell_type": "code",
   "execution_count": 48,
   "id": "ff83d7c1-4c7a-4cf5-8cb7-02ef83ab2fa2",
   "metadata": {},
   "outputs": [],
   "source": [
    "\n",
    "# Initialize Random Forest model\n",
    "model = RandomForestRegressor(n_estimators=100, random_state=42)"
   ]
  },
  {
   "cell_type": "code",
   "execution_count": 49,
   "id": "49109a6b-54c5-4eb5-8c93-8fc49e39e288",
   "metadata": {},
   "outputs": [
    {
     "data": {
      "text/html": [
       "<style>#sk-container-id-4 {color: black;}#sk-container-id-4 pre{padding: 0;}#sk-container-id-4 div.sk-toggleable {background-color: white;}#sk-container-id-4 label.sk-toggleable__label {cursor: pointer;display: block;width: 100%;margin-bottom: 0;padding: 0.3em;box-sizing: border-box;text-align: center;}#sk-container-id-4 label.sk-toggleable__label-arrow:before {content: \"▸\";float: left;margin-right: 0.25em;color: #696969;}#sk-container-id-4 label.sk-toggleable__label-arrow:hover:before {color: black;}#sk-container-id-4 div.sk-estimator:hover label.sk-toggleable__label-arrow:before {color: black;}#sk-container-id-4 div.sk-toggleable__content {max-height: 0;max-width: 0;overflow: hidden;text-align: left;background-color: #f0f8ff;}#sk-container-id-4 div.sk-toggleable__content pre {margin: 0.2em;color: black;border-radius: 0.25em;background-color: #f0f8ff;}#sk-container-id-4 input.sk-toggleable__control:checked~div.sk-toggleable__content {max-height: 200px;max-width: 100%;overflow: auto;}#sk-container-id-4 input.sk-toggleable__control:checked~label.sk-toggleable__label-arrow:before {content: \"▾\";}#sk-container-id-4 div.sk-estimator input.sk-toggleable__control:checked~label.sk-toggleable__label {background-color: #d4ebff;}#sk-container-id-4 div.sk-label input.sk-toggleable__control:checked~label.sk-toggleable__label {background-color: #d4ebff;}#sk-container-id-4 input.sk-hidden--visually {border: 0;clip: rect(1px 1px 1px 1px);clip: rect(1px, 1px, 1px, 1px);height: 1px;margin: -1px;overflow: hidden;padding: 0;position: absolute;width: 1px;}#sk-container-id-4 div.sk-estimator {font-family: monospace;background-color: #f0f8ff;border: 1px dotted black;border-radius: 0.25em;box-sizing: border-box;margin-bottom: 0.5em;}#sk-container-id-4 div.sk-estimator:hover {background-color: #d4ebff;}#sk-container-id-4 div.sk-parallel-item::after {content: \"\";width: 100%;border-bottom: 1px solid gray;flex-grow: 1;}#sk-container-id-4 div.sk-label:hover label.sk-toggleable__label {background-color: #d4ebff;}#sk-container-id-4 div.sk-serial::before {content: \"\";position: absolute;border-left: 1px solid gray;box-sizing: border-box;top: 0;bottom: 0;left: 50%;z-index: 0;}#sk-container-id-4 div.sk-serial {display: flex;flex-direction: column;align-items: center;background-color: white;padding-right: 0.2em;padding-left: 0.2em;position: relative;}#sk-container-id-4 div.sk-item {position: relative;z-index: 1;}#sk-container-id-4 div.sk-parallel {display: flex;align-items: stretch;justify-content: center;background-color: white;position: relative;}#sk-container-id-4 div.sk-item::before, #sk-container-id-4 div.sk-parallel-item::before {content: \"\";position: absolute;border-left: 1px solid gray;box-sizing: border-box;top: 0;bottom: 0;left: 50%;z-index: -1;}#sk-container-id-4 div.sk-parallel-item {display: flex;flex-direction: column;z-index: 1;position: relative;background-color: white;}#sk-container-id-4 div.sk-parallel-item:first-child::after {align-self: flex-end;width: 50%;}#sk-container-id-4 div.sk-parallel-item:last-child::after {align-self: flex-start;width: 50%;}#sk-container-id-4 div.sk-parallel-item:only-child::after {width: 0;}#sk-container-id-4 div.sk-dashed-wrapped {border: 1px dashed gray;margin: 0 0.4em 0.5em 0.4em;box-sizing: border-box;padding-bottom: 0.4em;background-color: white;}#sk-container-id-4 div.sk-label label {font-family: monospace;font-weight: bold;display: inline-block;line-height: 1.2em;}#sk-container-id-4 div.sk-label-container {text-align: center;}#sk-container-id-4 div.sk-container {/* jupyter's `normalize.less` sets `[hidden] { display: none; }` but bootstrap.min.css set `[hidden] { display: none !important; }` so we also need the `!important` here to be able to override the default hidden behavior on the sphinx rendered scikit-learn.org. See: https://github.com/scikit-learn/scikit-learn/issues/21755 */display: inline-block !important;position: relative;}#sk-container-id-4 div.sk-text-repr-fallback {display: none;}</style><div id=\"sk-container-id-4\" class=\"sk-top-container\"><div class=\"sk-text-repr-fallback\"><pre>RandomForestRegressor(random_state=42)</pre><b>In a Jupyter environment, please rerun this cell to show the HTML representation or trust the notebook. <br />On GitHub, the HTML representation is unable to render, please try loading this page with nbviewer.org.</b></div><div class=\"sk-container\" hidden><div class=\"sk-item\"><div class=\"sk-estimator sk-toggleable\"><input class=\"sk-toggleable__control sk-hidden--visually\" id=\"sk-estimator-id-4\" type=\"checkbox\" checked><label for=\"sk-estimator-id-4\" class=\"sk-toggleable__label sk-toggleable__label-arrow\">RandomForestRegressor</label><div class=\"sk-toggleable__content\"><pre>RandomForestRegressor(random_state=42)</pre></div></div></div></div></div>"
      ],
      "text/plain": [
       "RandomForestRegressor(random_state=42)"
      ]
     },
     "execution_count": 49,
     "metadata": {},
     "output_type": "execute_result"
    }
   ],
   "source": [
    "# Train the model\n",
    "model.fit(X_train, y_train)\n"
   ]
  },
  {
   "cell_type": "code",
   "execution_count": 50,
   "id": "19adc0b3-bf9d-438c-8e0d-12c9ca7f91d9",
   "metadata": {},
   "outputs": [],
   "source": [
    "# Make predictions on test set\n",
    "y_pred = model.predict(X_test)\n"
   ]
  },
  {
   "cell_type": "code",
   "execution_count": 51,
   "id": "fe470c72-8d07-4a55-8f94-840a6b67002c",
   "metadata": {},
   "outputs": [
    {
     "name": "stdout",
     "output_type": "stream",
     "text": [
      "Mean Squared Error: 21.861218733921678\n"
     ]
    }
   ],
   "source": [
    "# Mean Squared Error for Regression\n",
    "mse = mean_squared_error(y_test, y_pred)\n",
    "print(f\"Mean Squared Error: {mse}\")\n"
   ]
  },
  {
   "cell_type": "code",
   "execution_count": 52,
   "id": "a632f023-22b7-4d04-97d6-dde2be75c650",
   "metadata": {},
   "outputs": [
    {
     "name": "stdout",
     "output_type": "stream",
     "text": [
      "Accuracy: 1.0\n",
      "Precision: 1.0\n",
      "Recall: 1.0\n",
      "F1-Score: 1.0\n"
     ]
    }
   ],
   "source": [
    "# Classification metrics\n",
    "y_test_class = (y_test > y_test.mean()).astype(int)\n",
    "y_pred_class = (y_pred > y_pred.mean()).astype(int)\n",
    "\n",
    "accuracy = accuracy_score(y_test_class, y_pred_class)\n",
    "precision = precision_score(y_test_class, y_pred_class)\n",
    "recall = recall_score(y_test_class, y_pred_class)\n",
    "f1 = f1_score(y_test_class, y_pred_class)\n",
    "\n",
    "print(f\"Accuracy: {accuracy}\")\n",
    "print(f\"Precision: {precision}\")\n",
    "print(f\"Recall: {recall}\")\n",
    "print(f\"F1-Score: {f1}\")\n"
   ]
  },
  {
   "cell_type": "code",
   "execution_count": 53,
   "id": "d870a67a-9f5a-4655-9644-8603d8d2b490",
   "metadata": {},
   "outputs": [],
   "source": [
    "# Function to create future dates for the next 6 months\n",
    "def create_future_dates(start_date, months=6):\n",
    "    future_dates = [start_date + timedelta(days=i) for i in range(0, months * 30, 30)]\n",
    "    return pd.DataFrame({'Date': future_dates})\n",
    "# Function to predict future prices\n",
    "def predict_future_prices(model, start_day, start_month, start_year):\n",
    "    # Start date for prediction\n",
    "    start_date = datetime(year=start_year, month=start_month, day=start_day)\n",
    "    \n",
    "    # Create future dates for the next 6 months\n",
    "    future_data = create_future_dates(start_date)\n",
    "    \n",
    "    # Add placeholders for features (Open, High, Low, Volume) – replace with any method you use to get these values\n",
    "    future_data['Open'] = np.random.uniform(data['Open'].min(), data['Open'].max(), size=len(future_data))\n",
    "    future_data['High'] = np.random.uniform(data['High'].min(), data['High'].max(), size=len(future_data))\n",
    "    future_data['Low'] = np.random.uniform(data['Low'].min(), data['Low'].max(), size=len(future_data))\n",
    "    future_data['Volume'] = np.random.uniform(data['Volume'].min(), data['Volume'].max(), size=len(future_data))\n",
    "    \n",
    "    # Predict future Close prices\n",
    "    features = ['Open', 'High', 'Low', 'Volume']\n",
    "    future_data['Predicted_Close'] = model.predict(future_data[features])\n",
    "    \n",
    "    return future_data[['Date', 'Open', 'High', 'Low', 'Predicted_Close']]\n",
    "# Function to take user input and provide predictions\n",
    "def user_input_prediction():\n",
    "    start_day = int(input(\"Enter the day: \"))\n",
    "    start_month = int(input(\"Enter the month: \"))\n",
    "    start_year = int(input(\"Enter the year: \"))\n",
    "    \n",
    "    # Predict future stock prices\n",
    "    predictions = predict_future_prices(model, start_day, start_month, start_year)"
   ]
  },
  {
   "cell_type": "code",
   "execution_count": 54,
   "id": "1b6d5a15-1bf4-4426-96ad-ea80a821a8d2",
   "metadata": {},
   "outputs": [
    {
     "name": "stdin",
     "output_type": "stream",
     "text": [
      "Enter the day:  1\n",
      "Enter the month:  10\n",
      "Enter the year:  2024\n"
     ]
    }
   ],
   "source": [
    "# Run the prediction for user input\n",
    "user_input_prediction()"
   ]
  },
  {
   "cell_type": "code",
   "execution_count": null,
   "id": "6de6d3e8-831f-44c5-b070-d481a689cf88",
   "metadata": {},
   "outputs": [],
   "source": []
  }
 ],
 "metadata": {
  "kernelspec": {
   "display_name": "Python 3 (ipykernel)",
   "language": "python",
   "name": "python3"
  },
  "language_info": {
   "codemirror_mode": {
    "name": "ipython",
    "version": 3
   },
   "file_extension": ".py",
   "mimetype": "text/x-python",
   "name": "python",
   "nbconvert_exporter": "python",
   "pygments_lexer": "ipython3",
   "version": "3.11.7"
  }
 },
 "nbformat": 4,
 "nbformat_minor": 5
}
